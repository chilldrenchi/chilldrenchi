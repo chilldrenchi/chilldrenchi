{
 "cells": [
  {
   "cell_type": "markdown",
   "id": "b7dae7de",
   "metadata": {},
   "source": [
    "# QMSS 5072 Assignment 1 - Haotian \"Sky\" Chi (hc3462) 🇪🇸\n",
    "Date: 2024-1-31\n",
    "\n",
    "![](https://blog.duolingo.com/content/images/2022/02/13-copy-10-2.png)\n",
    "\n",
    "# Project Name: DuoXPy \n",
    "## XP farm ⚡️ and Streak keeper for Duolingo [click here](https://github.com/gorouflex/DuoXPy) "
   ]
  },
  {
   "cell_type": "markdown",
   "id": "1310005a",
   "metadata": {},
   "source": [
    "### Table of Contents\n",
    "* [1. Features](#bullet1)\n",
    "* [2. Usage](#bullet2)\n",
    "* [3. How to change the schedule that the workflows will run?](#bullet3)\n",
    "* [4. Recent Activity on Repo](#bullet4)"
   ]
  },
  {
   "cell_type": "markdown",
   "id": "79f44b18",
   "metadata": {},
   "source": [
    "## 1. Feature  <a class=\"anchor\" id=\"bullet1\"></a>\n",
    "- Duolingo users\n",
    "- For users do not wish to drop weekly leader board\n",
    "- earn XP ⚡️\n",
    "- keep daily streak "
   ]
  },
  {
   "cell_type": "markdown",
   "id": "d0fc669b",
   "metadata": {},
   "source": [
    "## 2. Usage  <a class=\"anchor\" id=\"bullet2\"></a>\n",
    "-  Go to [Duolingo](https://www.duolingo.com/) and log in to your Duolingo account\n",
    "- Open the browser's console by pressing F12 button ( or Fn+F12 on some laptops )\n",
    "- Click on the tab Console then paste this to the console"
   ]
  },
  {
   "cell_type": "code",
   "execution_count": null,
   "id": "0c84005f",
   "metadata": {},
   "outputs": [],
   "source": [
    "document.cookie\n",
    "  .split(';')\n",
    "  .find(cookie => cookie.includes('jwt_token'))\n",
    "  .split('=')[1]"
   ]
  },
  {
   "cell_type": "markdown",
   "id": "c8f98882",
   "metadata": {},
   "source": [
    "- Copy the token without ' ( example: 'abcde1234` -> abcde1234 )\n",
    "- Fork this [repository](https://github.com/gorouflex/DuoXPy/fork) 🍴\n",
    "- Go to your forked repository 🍴\n",
    "- Go to Settings > Secrets and Variables > Actions, and click New Repository secret\n",
    "- Use JWT_TOKEN and paste your JWT Token from Steps 3\n",
    "- Go to your forked repository 🍴 and go to the Actions tab and press I understand my workflows, go ahead and enable them"
   ]
  },
  {
   "cell_type": "markdown",
   "id": "aa062a14",
   "metadata": {},
   "source": [
    "***How to fix Error 500 - No SkillID found in xpGains?***\n",
    "\n",
    "***troubleshooting: Do not let your latest study session empty, at least get them to level 1***"
   ]
  },
  {
   "cell_type": "markdown",
   "id": "418c29f6",
   "metadata": {},
   "source": [
    "## 3. How to change the schedule that the workflows will run?  <a class=\"anchor\" id=\"bullet3\"></a>"
   ]
  },
  {
   "cell_type": "markdown",
   "id": "e42618e8",
   "metadata": {},
   "source": [
    "Daily workflow file path ( default is 14:00 UTC ± 0, and ***DO NOT*** enter your token here cause it will not work and may leak your information to everyone )\n",
    "\n",
    "- GitHub uses UTC time ( UTC ± 0 ) for scheduling workflows, so we should convert it to our timezone\n",
    "\n",
    "- For example: If I want to set the daily trigger to trigger at 9:00 PM ( UTC + 7 ) , I have to set it to 2:00 PM ( UTC ± 0 ) ( 2+7=9 ):"
   ]
  },
  {
   "cell_type": "code",
   "execution_count": null,
   "id": "ba6d747c",
   "metadata": {},
   "outputs": [],
   "source": [
    "name: Daily lessons\n",
    "on:\n",
    "  schedule:\n",
    "    - cron: '0 14 * * *' # <- Use UTC Time +0 , change your time here ( 14 is hour , 0 is minutes ) and use 24-hour format"
   ]
  },
  {
   "cell_type": "markdown",
   "id": "5c25ff3e",
   "metadata": {},
   "source": [
    "- Another example: if I want the daily trigger to run at 5:00 AM ( UTC + 7 ), I have to set it to 10:00 PM ( UTC ± 0 ) ( use 24-hour format ):"
   ]
  },
  {
   "cell_type": "code",
   "execution_count": null,
   "id": "e7f625d1",
   "metadata": {},
   "outputs": [],
   "source": [
    "name: Daily lessons\n",
    "on:\n",
    "  schedule:\n",
    "    - cron: '0 22 * * *' # <- Use UTC Time +0 , change your time here ( 14 is hour , 0 is minutes ) and use 24-hour format"
   ]
  },
  {
   "cell_type": "markdown",
   "id": "7f6cf416",
   "metadata": {},
   "source": [
    "**Question: When you looked at your commit history on either GitHub or GitHub Desktop for the Jupyter Notebook, did the code look familiar? What about the code for the python script you made? Why did the code for Jupyter Notebook seem foreign?**\n",
    "\n",
    "- The commit history for Jupyter Notebook on Github or Github Desktop is unfamiliar while the python script's commit history prints basically the same as what I entered in Spider. \n",
    "- This is because the file script (.ipynb) is JSON I wrote on Jupyter Notebook. JSON file contains cell typ such as code, markdown, Raw NBConvert, and many other functions.These advanced functions (interaction) in Jupyter Notebook requires more complex code while the python script is simple - file type is .py, which stored as plain text. "
   ]
  }
 ],
 "metadata": {
  "kernelspec": {
   "display_name": "Python 3 (ipykernel)",
   "language": "python",
   "name": "python3"
  },
  "language_info": {
   "codemirror_mode": {
    "name": "ipython",
    "version": 3
   },
   "file_extension": ".py",
   "mimetype": "text/x-python",
   "name": "python",
   "nbconvert_exporter": "python",
   "pygments_lexer": "ipython3",
   "version": "3.11.5"
  }
 },
 "nbformat": 4,
 "nbformat_minor": 5
}
